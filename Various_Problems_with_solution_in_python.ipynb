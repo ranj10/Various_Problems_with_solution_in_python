{
  "cells": [
    {
      "cell_type": "markdown",
      "metadata": {
        "id": "view-in-github",
        "colab_type": "text"
      },
      "source": [
        "<a href=\"https://colab.research.google.com/github/ranj10/Various_Problems_with_solution_in_python/blob/main/Various_Problems_with_solution_in_python.ipynb\" target=\"_parent\"><img src=\"https://colab.research.google.com/assets/colab-badge.svg\" alt=\"Open In Colab\"/></a>"
      ]
    },
    {
      "cell_type": "code",
      "source": [
        "i=input( \"enter your string in x and o\")\n",
        "o=1\n",
        "x=1\n",
        "n=1\n",
        "for j in i:\n",
        "  if j == i[n]:\n",
        "    x=x+1\n",
        "  else:\n",
        "      o=o+1\n",
        "\n",
        "if x==o:\n",
        "  print(\"TRUE\")\n",
        "else:\n",
        "  print(\"FALSE\")\n",
        "\n",
        "\n"
      ],
      "metadata": {
        "id": "zJjDGIZHzBOb",
        "outputId": "eba4e1a2-7a16-48a4-f5c7-ff52de910a42",
        "colab": {
          "base_uri": "https://localhost:8080/"
        }
      },
      "execution_count": null,
      "outputs": [
        {
          "output_type": "stream",
          "name": "stdout",
          "text": [
            "enter your string in x and oXXXXXOOOOO\n",
            "TRUE\n"
          ]
        }
      ]
    },
    {
      "cell_type": "code",
      "source": [
        "i=input( \"enter your number which should have at least one word or symbol -\")\n",
        "n=[0,1,2,3,4,5,6,7,8,9]\n",
        "u=0\n",
        "p=0\n",
        "s=0\n",
        "print(type(n))\n",
        "for j in i:\n",
        "  if j in n:\n",
        "    u.append(j)\n",
        "  p=u\n",
        "  s=p+u\n",
        "\n",
        "print(s)\n",
        "\n",
        "\n",
        "\n"
      ],
      "metadata": {
        "id": "amaujaFCzBr0",
        "outputId": "c4c5d38a-47b9-44d3-8403-833fb9c5d8fe",
        "colab": {
          "base_uri": "https://localhost:8080/"
        }
      },
      "execution_count": null,
      "outputs": [
        {
          "output_type": "stream",
          "name": "stdout",
          "text": [
            "enter your number which should have at least one word or symbol45,and4,5,6\n",
            "<class 'list'>\n",
            "0\n"
          ]
        }
      ]
    },
    {
      "cell_type": "code",
      "source": [
        "i = input(\"Enter your string which should have at least one number: \")\n",
        "\n",
        "# Initialize sum\n",
        "total_sum = 0\n",
        "\n",
        "# Initialize a flag to check if the previous character was a digit\n",
        "prev_was_digit = False\n",
        "\n",
        "# Iterate through each character in the input string\n",
        "for char in i:\n",
        "    # If the character is a digit, add it to the sum\n",
        "    if char.isdigit():\n",
        "        # If the previous character was also a digit, concatenate the current digit with the previous one\n",
        "        if prev_was_digit:\n",
        "            total_sum += int(str(total_sum)[-1] + char)\n",
        "        else:\n",
        "            total_sum += int(char)\n",
        "        prev_was_digit = True\n",
        "    else:\n",
        "        prev_was_digit = False\n",
        "\n",
        "print(\"Sum of numbers:\", total_sum)\n"
      ],
      "metadata": {
        "id": "3uZvHXo5zBt8",
        "outputId": "c9ff8dba-063a-4f97-9fa3-dacc0a0aea18",
        "colab": {
          "base_uri": "https://localhost:8080/"
        }
      },
      "execution_count": null,
      "outputs": [
        {
          "output_type": "stream",
          "name": "stdout",
          "text": [
            "Enter your string which should have at least one number: 55hello 5thanks456\n",
            "Sum of numbers: 210\n"
          ]
        }
      ]
    },
    {
      "cell_type": "code",
      "source": [
        "i = input(\"Enter your string which should have at least one number: \")\n",
        "\n",
        "# Initialize sum\n",
        "total_sum = 0\n",
        "\n",
        "# Initialize a flag to check if the previous character was a digit\n",
        "prev_was_digit = False\n",
        "\n",
        "# Iterate through each character in the input string\n",
        "for char in i:\n",
        "    # If the character is a digit, add it to the sum\n",
        "    if char.isdigit():\n",
        "        # If the previous character was also a digit, concatenate the current digit with the previous one\n",
        "        if prev_was_digit:\n",
        "            total_sum = total_sum * 10 + int(char)\n",
        "        else:\n",
        "            total_sum += int(char)\n",
        "        prev_was_digit = True\n",
        "    else:\n",
        "        prev_was_digit = False\n",
        "\n",
        "print(\"Sum of numbers:\", total_sum)\n",
        "\n"
      ],
      "metadata": {
        "id": "g_PSq8KNzBxe",
        "outputId": "9e781cc0-90ce-4a85-8413-84fa6a9cc36d",
        "colab": {
          "base_uri": "https://localhost:8080/"
        }
      },
      "execution_count": null,
      "outputs": [
        {
          "output_type": "stream",
          "name": "stdout",
          "text": [
            "Enter your string which should have at least one number: 7hello ell7 what888\n",
            "Sum of numbers: 2288\n"
          ]
        }
      ]
    },
    {
      "cell_type": "code",
      "source": [
        "input_string = input(\"Enter your string which should have at least one number: \")\n",
        "\n",
        "# Initialize sum\n",
        "total_sum = 0\n",
        "\n",
        "# Initialize variables to keep track of the current number being formed\n",
        "current_number = \"\"\n",
        "prev_was_digit = False\n",
        "\n",
        "# Iterate through each character in the input string\n",
        "for char in input_string:\n",
        "    # If the character is a digit, add it to the current number being formed\n",
        "    if char.isdigit():\n",
        "        current_number += char\n",
        "        prev_was_digit = True\n",
        "    else:\n",
        "        # If the previous character was a digit, add the formed number to the total sum\n",
        "        if prev_was_digit:\n",
        "            total_sum += int(current_number)\n",
        "            current_number = \"\"  # Reset the current number for the next iteration\n",
        "        prev_was_digit = False\n",
        "\n",
        "# If there's a number left at the end of the string, add it to the total sum\n",
        "if current_number:\n",
        "    total_sum += int(current_number)\n",
        "\n",
        "print(\"Sum of numbers:\", total_sum)\n"
      ],
      "metadata": {
        "id": "UAbKvVzdmErR",
        "outputId": "d79b4f80-71aa-492a-e2b9-a1788464290e",
        "colab": {
          "base_uri": "https://localhost:8080/"
        }
      },
      "execution_count": null,
      "outputs": [
        {
          "output_type": "stream",
          "name": "stdout",
          "text": [
            "Enter your string which should have at least one number: 55hello well5 to874\n",
            "Sum of numbers: 934\n"
          ]
        }
      ]
    },
    {
      "cell_type": "code",
      "source": [
        "input_string = \"88Hello 3world!\"\n",
        "\n",
        "# Initialize sum\n",
        "total_sum = 0\n",
        "\n",
        "# Initialize variables to keep track of the current number being formed\n",
        "current_number = \"\"\n",
        "prev_was_digit = False\n",
        "\n",
        "# Iterate through each character in the input string\n",
        "for char in input_string:\n",
        "    # If the character is a digit, add it to the current number being formed\n",
        "    if char.isdigit():\n",
        "        current_number += char\n",
        "        prev_was_digit = True\n",
        "    else:\n",
        "        # If the previous character was a digit, add the formed number to the total sum\n",
        "        if prev_was_digit:\n",
        "            total_sum += int(current_number)\n",
        "            current_number = \"\"  # Reset the current number for the next iteration\n",
        "        prev_was_digit = False\n",
        "\n",
        "# If there's a number left at the end of the string, add it to the total sum\n",
        "if current_number:\n",
        "    total_sum += int(current_number)\n",
        "\n",
        "print(\"Sum of numbers:\", total_sum)\n"
      ],
      "metadata": {
        "id": "OLLbTETfqBAf"
      },
      "execution_count": null,
      "outputs": []
    },
    {
      "cell_type": "code",
      "source": [
        "# Define the input string\n",
        "input_string = \"xooxxxooxo\"\n",
        "\n",
        "# Initialize counters for 'x' and 'o'\n",
        "x_count = 0\n",
        "o_count = 0\n",
        "\n",
        "# Iterate through each character in the input string\n",
        "for char in input_string:\n",
        "    if char == 'x':\n",
        "        x_count += 1\n",
        "    elif char == 'o':\n",
        "        o_count += 1\n",
        "\n",
        "# Check if the counts of 'x' and 'o' are equal\n",
        "if x_count == o_count:\n",
        "    print(\"TRUE\")\n",
        "else:\n",
        "    print(\"FALSE\")"
      ],
      "metadata": {
        "id": "rbyamT4yqsJ-"
      },
      "execution_count": null,
      "outputs": []
    }
  ],
  "metadata": {
    "colab": {
      "provenance": [],
      "include_colab_link": true
    },
    "kernelspec": {
      "display_name": "Python 3",
      "name": "python3"
    }
  },
  "nbformat": 4,
  "nbformat_minor": 0
}